{
 "cells": [
  {
   "cell_type": "code",
   "execution_count": 46,
   "metadata": {},
   "outputs": [],
   "source": [
    "'''\n",
    "metrics\n",
    "\n",
    "Contact: adalca@csail.mit.edu\n",
    "'''\n",
    "\n",
    "#  imports\n",
    "import numpy as np\n",
    "\n",
    "\n",
    "def dice(vol1, vol2, labels=None, nargout=1):\n",
    "    '''\n",
    "    Dice [1] volume overlap metric\n",
    "\n",
    "    The default is to *not* return a measure for the background layer (label = 0)\n",
    "\n",
    "    [1] Dice, Lee R. \"Measures of the amount of ecologic association between species.\"\n",
    "    Ecology 26.3 (1945): 297-302.\n",
    "\n",
    "    Parameters\n",
    "    ----------\n",
    "    vol1 : nd array. The first volume (e.g. predicted volume)\n",
    "    vol2 : nd array. The second volume (e.g. \"true\" volume)\n",
    "    labels : optional vector of labels on which to compute Dice.\n",
    "        If this is not provided, Dice is computed on all non-background (non-0) labels\n",
    "    nargout : optional control of output arguments. if 1, output Dice measure(s).\n",
    "        if 2, output tuple of (Dice, labels)\n",
    "\n",
    "    Output\n",
    "    ------\n",
    "    if nargout == 1 : dice : vector of dice measures for each labels\n",
    "    if nargout == 2 : (dice, labels) : where labels is a vector of the labels on which\n",
    "        dice was computed\n",
    "    '''\n",
    "    if labels is None:\n",
    "        labels = np.unique(np.concatenate((vol1, vol2)))\n",
    "        labels = np.delete(labels, np.where(labels == 0))  # remove background\n",
    "\n",
    "    dicem = np.zeros(len(labels))\n",
    "    for idx, lab in enumerate(labels):\n",
    "        vol1l = vol1 == lab\n",
    "        vol2l = vol2 == lab\n",
    "        top = 2 * np.sum(np.logical_and(vol1l, vol2l))\n",
    "        bottom = np.sum(vol1l) + np.sum(vol2l)\n",
    "        bottom = np.maximum(bottom, np.finfo(float).eps)  # add epsilon.\n",
    "        # eps is the minimun non negative value, avoid zero or negative denominator in division\n",
    "        dicem[idx] = top / bottom\n",
    "\n",
    "    if nargout == 1:\n",
    "        return dicem\n",
    "    else:\n",
    "        return (dicem, labels)\n",
    "\n"
   ]
  },
  {
   "cell_type": "code",
   "execution_count": 67,
   "metadata": {},
   "outputs": [],
   "source": [
    "import nibabel as nib\n",
    "import numpy as np\n",
    "vol1 = nib.load(r'C:\\Users\\studentx\\Downloads\\lung_data\\DFmodel\\case6\\def\\seg_lung6.nii').get_fdata()\n",
    "vol2 = nib.load(r'C:\\Users\\studentx\\Downloads\\lung_data\\DFmodel\\case6\\down60_seg.nii').get_fdata()\n",
    "\n",
    "labels = np.unique(np.concatenate((vol1, vol2)))\n",
    "labels = np.delete(labels, np.where(labels == 0))\n"
   ]
  },
  {
   "cell_type": "code",
   "execution_count": 74,
   "metadata": {},
   "outputs": [
    {
     "name": "stdout",
     "output_type": "stream",
     "text": [
      "488682\n",
      "529545\n",
      "529545.0 2.220446049250313e-16\n",
      "0.9228337535053678\n"
     ]
    }
   ],
   "source": [
    "lab=labels\n",
    "vol1l = vol1 == lab\n",
    "vol2l = vol2 == lab\n",
    "top = 2 * np.sum(np.logical_and(vol1l, vol2l))\n",
    "print(top)\n",
    "bottom = np.sum(vol1l) + np.sum(vol2l)\n",
    "print(bottom)\n",
    "bottom = np.maximum(bottom, np.finfo(float).eps)\n",
    "print(bottom , np.finfo(float).eps)\n",
    "print(top/bottom)\n"
   ]
  },
  {
   "cell_type": "code",
   "execution_count": 61,
   "metadata": {},
   "outputs": [
    {
     "name": "stdout",
     "output_type": "stream",
     "text": [
      "dice 1 [0.87889822]\n",
      "dice 2 [0.92875545]\n",
      "dice 3 [0.95817946]\n",
      "dice 4 [0.9519929]\n",
      "dice 5 [0.90308404]\n",
      "dice 6 [0.92283375]\n",
      "dice 7 [0.93972865]\n",
      "dice 8 [0.95334846]\n",
      "dice 9 [0.96817795]\n"
     ]
    }
   ],
   "source": [
    "import nibabel as nib \n",
    "import os\n",
    "\n",
    "for i in range(1, 10):\n",
    "    simu_path = r'C:\\Users\\studentx\\Downloads\\lung_data\\DFmodel\\case6\\def'\n",
    "    simu = nib.load(os.path.join(simu_path, 'seg_lung'+str(i)+'.nii')).get_fdata()\n",
    "    real_path = r'C:\\Users\\studentx\\Downloads\\lung_data\\DFmodel\\case6'\n",
    "    real = nib.load(os.path.join(real_path, 'down'+str(i)+'0_seg.nii')).get_fdata()\n",
    "    print('dice', str(i) , dice(simu, real, labels=None, nargout=1))\n"
   ]
  },
  {
   "cell_type": "code",
   "execution_count": 43,
   "metadata": {},
   "outputs": [
    {
     "name": "stdout",
     "output_type": "stream",
     "text": [
      "C:\\Users\\studentx\\Downloads\\lung_data\\DFmodel\\case6\\def\\seg_lung2.nii\n"
     ]
    }
   ],
   "source": [
    "i=2\n",
    "import os\n",
    "simu_str = 'seg_lung'+str(i)+'.nii'\n",
    "simu_path = r'C:\\Users\\studentx\\Downloads\\lung_data\\DFmodel\\case6\\def'\n",
    "a = os.path.join(simu_path, 'seg_lung'+str(i)+'.nii')\n",
    "print(a)\n"
   ]
  },
  {
   "cell_type": "code",
   "execution_count": 17,
   "metadata": {},
   "outputs": [
    {
     "name": "stdout",
     "output_type": "stream",
     "text": [
      "(256, 256, 128)\n",
      "(256, 256, 128)\n"
     ]
    }
   ],
   "source": [
    "import nibabel as nib\n",
    "simu50_ct = nib.load(r'C:\\Users\\studentx\\Downloads\\lung_data\\DFmodel\\case6\\def\\seg_lung5.nii')\n",
    "simu50_vol = simu50_ct.get_fdata()\n",
    "print(simu50_vol.shape)\n",
    "down50_ct = nib.load(r'C:\\Users\\studentx\\Downloads\\lung_data\\DFmodel\\case6\\down50_seg.nii')\n",
    "down50_vol = down50_ct.get_fdata()\n",
    "print(down50_vol.shape)"
   ]
  },
  {
   "cell_type": "code",
   "execution_count": 18,
   "metadata": {},
   "outputs": [
    {
     "name": "stdout",
     "output_type": "stream",
     "text": [
      "[0.90308404]\n"
     ]
    }
   ],
   "source": [
    "print(dice(simu50_vol, down50_vol, labels=None, nargout=1))"
   ]
  },
  {
   "cell_type": "code",
   "execution_count": 19,
   "metadata": {},
   "outputs": [
    {
     "name": "stdout",
     "output_type": "stream",
     "text": [
      "[0.92875545]\n"
     ]
    }
   ],
   "source": [
    "import nibabel as nib\n",
    "simu20_ct = nib.load(r'C:\\Users\\studentx\\Downloads\\lung_data\\DFmodel\\case6\\def\\seg_lung2.nii')\n",
    "simu20_vol = simu20_ct.get_fdata()\n",
    "\n",
    "down20_ct = nib.load(r'C:\\Users\\studentx\\Downloads\\lung_data\\DFmodel\\case6\\down20_seg.nii')\n",
    "down20_vol = down20_ct.get_fdata()\n",
    "\n",
    "print(dice(simu20_vol, down20_vol, labels=None, nargout=1))"
   ]
  },
  {
   "cell_type": "code",
   "execution_count": 23,
   "metadata": {},
   "outputs": [
    {
     "name": "stdout",
     "output_type": "stream",
     "text": [
      "[0.95817946]\n"
     ]
    }
   ],
   "source": [
    "import nibabel as nib\n",
    "simu30_vol = nib.load(r'C:\\Users\\studentx\\Downloads\\lung_data\\DFmodel\\case6\\def\\seg_lung3.nii').get_fdata()\n",
    "down30_vol = nib.load(r'C:\\Users\\studentx\\Downloads\\lung_data\\DFmodel\\case6\\down30_seg.nii').get_fdata()\n",
    "\n",
    "print(dice(simu30_vol, down30_vol, labels=None, nargout=1))"
   ]
  },
  {
   "cell_type": "code",
   "execution_count": 25,
   "metadata": {},
   "outputs": [
    {
     "name": "stdout",
     "output_type": "stream",
     "text": [
      "[0.87889822]\n"
     ]
    }
   ],
   "source": [
    "import nibabel as nib\n",
    "simu10_vol = nib.load(r'C:\\Users\\studentx\\Downloads\\lung_data\\DFmodel\\case6\\def\\seg_lung1.nii').get_fdata()\n",
    "down10_vol = nib.load(r'C:\\Users\\studentx\\Downloads\\lung_data\\DFmodel\\case6\\down10_seg.nii').get_fdata()\n",
    "\n",
    "print(dice(simu10_vol, down10_vol, labels=None, nargout=1))"
   ]
  },
  {
   "cell_type": "code",
   "execution_count": 26,
   "metadata": {},
   "outputs": [
    {
     "name": "stdout",
     "output_type": "stream",
     "text": [
      "[0.9519929]\n"
     ]
    }
   ],
   "source": [
    "import nibabel as nib\n",
    "simu_vol = nib.load(r'C:\\Users\\studentx\\Downloads\\lung_data\\DFmodel\\case6\\def\\seg_lung4.nii').get_fdata()\n",
    "down_vol = nib.load(r'C:\\Users\\studentx\\Downloads\\lung_data\\DFmodel\\case6\\down40_seg.nii').get_fdata()\n",
    "\n",
    "print(dice(simu_vol, down_vol, labels=None, nargout=1))"
   ]
  },
  {
   "cell_type": "code",
   "execution_count": 27,
   "metadata": {
    "scrolled": true
   },
   "outputs": [
    {
     "name": "stdout",
     "output_type": "stream",
     "text": [
      "[0.92283375]\n"
     ]
    }
   ],
   "source": [
    "import nibabel as nib\n",
    "simu_vol = nib.load(r'C:\\Users\\studentx\\Downloads\\lung_data\\DFmodel\\case6\\def\\seg_lung6.nii').get_fdata()\n",
    "down_vol = nib.load(r'C:\\Users\\studentx\\Downloads\\lung_data\\DFmodel\\case6\\down60_seg.nii').get_fdata()\n",
    "\n",
    "print(dice(simu_vol, down_vol, labels=None, nargout=1))"
   ]
  },
  {
   "cell_type": "code",
   "execution_count": 28,
   "metadata": {},
   "outputs": [
    {
     "name": "stdout",
     "output_type": "stream",
     "text": [
      "[0.93972865]\n"
     ]
    }
   ],
   "source": [
    "import nibabel as nib\n",
    "simu_vol = nib.load(r'C:\\Users\\studentx\\Downloads\\lung_data\\DFmodel\\case6\\def\\seg_lung7.nii').get_fdata()\n",
    "down_vol = nib.load(r'C:\\Users\\studentx\\Downloads\\lung_data\\DFmodel\\case6\\down70_seg.nii').get_fdata()\n",
    "\n",
    "print(dice(simu_vol, down_vol, labels=None, nargout=1))"
   ]
  },
  {
   "cell_type": "code",
   "execution_count": 29,
   "metadata": {},
   "outputs": [
    {
     "name": "stdout",
     "output_type": "stream",
     "text": [
      "[0.95334846]\n"
     ]
    }
   ],
   "source": [
    "import nibabel as nib\n",
    "simu_vol = nib.load(r'C:\\Users\\studentx\\Downloads\\lung_data\\DFmodel\\case6\\def\\seg_lung8.nii').get_fdata()\n",
    "down_vol = nib.load(r'C:\\Users\\studentx\\Downloads\\lung_data\\DFmodel\\case6\\down80_seg.nii').get_fdata()\n",
    "\n",
    "print(dice(simu_vol, down_vol, labels=None, nargout=1))"
   ]
  },
  {
   "cell_type": "code",
   "execution_count": 30,
   "metadata": {},
   "outputs": [
    {
     "name": "stdout",
     "output_type": "stream",
     "text": [
      "[0.96817795]\n"
     ]
    }
   ],
   "source": [
    "import nibabel as nib\n",
    "simu_vol = nib.load(r'C:\\Users\\studentx\\Downloads\\lung_data\\DFmodel\\case6\\def\\seg_lung9.nii').get_fdata()\n",
    "down_vol = nib.load(r'C:\\Users\\studentx\\Downloads\\lung_data\\DFmodel\\case6\\down90_seg.nii').get_fdata()\n",
    "\n",
    "print(dice(simu_vol, down_vol, labels=None, nargout=1))"
   ]
  },
  {
   "cell_type": "code",
   "execution_count": null,
   "metadata": {},
   "outputs": [],
   "source": []
  }
 ],
 "metadata": {
  "kernelspec": {
   "display_name": "Python 3",
   "language": "python",
   "name": "python3"
  },
  "language_info": {
   "codemirror_mode": {
    "name": "ipython",
    "version": 3
   },
   "file_extension": ".py",
   "mimetype": "text/x-python",
   "name": "python",
   "nbconvert_exporter": "python",
   "pygments_lexer": "ipython3",
   "version": "3.6.8"
  }
 },
 "nbformat": 4,
 "nbformat_minor": 2
}
