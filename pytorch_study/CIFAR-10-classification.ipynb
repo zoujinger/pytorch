{
 "cells": [
  {
   "cell_type": "markdown",
   "metadata": {},
   "source": [
    "data import and preprocess"
   ]
  },
  {
   "cell_type": "code",
   "execution_count": 26,
   "metadata": {},
   "outputs": [],
   "source": [
    "import torch as t\n",
    "from torch.autograd import Variable\n",
    "import torchvision as tv\n",
    "import torchvision.transforms as transforms\n",
    "from torchvision.transforms import ToPILImage\n",
    "show = ToPILImage()"
   ]
  },
  {
   "cell_type": "code",
   "execution_count": 11,
   "metadata": {},
   "outputs": [],
   "source": [
    "transform = transforms.Compose([\n",
    "    transforms.ToTensor(),\n",
    "    transforms.Normalize((0.5,0.5,0.5), (0.5,0.5,0.5))\n",
    "])"
   ]
  },
  {
   "cell_type": "code",
   "execution_count": 12,
   "metadata": {},
   "outputs": [
    {
     "name": "stdout",
     "output_type": "stream",
     "text": [
      "Files already downloaded and verified\n"
     ]
    }
   ],
   "source": [
    "trainset = tv.datasets.CIFAR10(\n",
    "    root=r'C:/Users/studentx/',\n",
    "    train=True,\n",
    "    download=True,\n",
    "    transform=transform\n",
    ")"
   ]
  },
  {
   "cell_type": "code",
   "execution_count": 13,
   "metadata": {},
   "outputs": [],
   "source": [
    "trainloader = t.utils.data.DataLoader(\n",
    "    trainset,\n",
    "    batch_size=4,\n",
    "    shuffle=True,\n",
    "    num_workers=2\n",
    ")"
   ]
  },
  {
   "cell_type": "code",
   "execution_count": 14,
   "metadata": {},
   "outputs": [
    {
     "name": "stdout",
     "output_type": "stream",
     "text": [
      "Files already downloaded and verified\n"
     ]
    }
   ],
   "source": [
    "testset = tv.datasets.CIFAR10(\n",
    "    r'C:/Users/studentx/',\n",
    "    train=False,\n",
    "    download=True,\n",
    "    transform=transform\n",
    ")\n",
    "\n",
    "testloader = t.utils.data.DataLoader(\n",
    "    testset,\n",
    "    batch_size=4,\n",
    "    shuffle=False,\n",
    "    num_workers=2\n",
    ")"
   ]
  },
  {
   "cell_type": "code",
   "execution_count": 15,
   "metadata": {},
   "outputs": [],
   "source": [
    "classes = ('plane','car','bird','cat','deer','dog','frog','horse','ship','truch')"
   ]
  },
  {
   "cell_type": "code",
   "execution_count": 16,
   "metadata": {},
   "outputs": [
    {
     "name": "stdout",
     "output_type": "stream",
     "text": [
      "ship\n"
     ]
    },
    {
     "data": {
      "image/png": "[encoded data removed]",
      "text/plain": [
       "<PIL.Image.Image image mode=RGB size=100x100 at 0x177013732E8>"
      ]
     },
     "execution_count": 16,
     "metadata": {},
     "output_type": "execute_result"
    }
   ],
   "source": [
    "(data, label) = trainset[100]\n",
    "print(classes[label])\n",
    "show((data+1)/2).resize((100,100))"
   ]
  },
  {
   "cell_type": "code",
   "execution_count": 18,
   "metadata": {},
   "outputs": [
    {
     "name": "stdout",
     "output_type": "stream",
     "text": [
      "        car        frog         car       plane\n"
     ]
    },
    {
     "data": {
      "image/png": "[encoded data removed]",
      "text/plain": [
       "<PIL.Image.Image image mode=RGB size=400x100 at 0x17701A7F3C8>"
      ]
     },
     "execution_count": 18,
     "metadata": {},
     "output_type": "execute_result"
    }
   ],
   "source": [
    "dataiter = iter(trainloader)\n",
    "images, labels = dataiter.next()\n",
    "print(' '.join('%11s'%classes[labels[j]] for j in range(4)))\n",
    "show(tv.utils.make_grid((images+1)/2)).resize((400,100))"
   ]
  },
  {
   "cell_type": "markdown",
   "metadata": {},
   "source": [
    "define network"
   ]
  },
  {
   "cell_type": "code",
   "execution_count": 19,
   "metadata": {},
   "outputs": [
    {
     "name": "stdout",
     "output_type": "stream",
     "text": [
      "Net(\n",
      "  (conv1): Conv2d(3, 6, kernel_size=(5, 5), stride=(1, 1))\n",
      "  (conv2): Conv2d(6, 16, kernel_size=(5, 5), stride=(1, 1))\n",
      "  (fc1): Linear(in_features=400, out_features=120, bias=True)\n",
      "  (fc2): Linear(in_features=120, out_features=84, bias=True)\n",
      "  (fc3): Linear(in_features=84, out_features=10, bias=True)\n",
      ")\n"
     ]
    }
   ],
   "source": [
    "import torch.nn as nn\n",
    "import torch.nn.functional as F\n",
    "\n",
    "class Net(nn.Module):\n",
    "    def __init__(self):\n",
    "        super(Net,self).__init__()\n",
    "        self.conv1 = nn.Conv2d(3, 6, 5)\n",
    "        self.conv2 = nn.Conv2d(6, 16,5)\n",
    "        \n",
    "        self.fc1 = nn.Linear(16*5*5, 120)\n",
    "        self.fc2 = nn.Linear(120, 84)\n",
    "        self.fc3 = nn.Linear(84, 10)\n",
    "        \n",
    "    def forward(self, x):\n",
    "        x = F.max_pool2d(F.relu(self.conv1(x)), (2, 2))\n",
    "        x = F.max_pool2d(F.relu(self.conv2(x)), (2, 2))\n",
    "        x = x.view(x.size()[0], -1)\n",
    "        x = F.relu(self.fc1(x))\n",
    "        x = F.relu(self.fc2(x))\n",
    "        x = self.fc3(x)\n",
    "        return x\n",
    "    \n",
    "net = Net()\n",
    "print(net)"
   ]
  },
  {
   "cell_type": "markdown",
   "metadata": {},
   "source": [
    "define loss and optimizer"
   ]
  },
  {
   "cell_type": "code",
   "execution_count": 20,
   "metadata": {},
   "outputs": [],
   "source": [
    "from torch import optim\n",
    "criterion = nn.CrossEntropyLoss()\n",
    "optimizer = optim.SGD(net.parameters(),lr=0.001,momentum=0.9)"
   ]
  },
  {
   "cell_type": "markdown",
   "metadata": {},
   "source": [
    "train network"
   ]
  },
  {
   "cell_type": "code",
   "execution_count": 44,
   "metadata": {},
   "outputs": [
    {
     "name": "stdout",
     "output_type": "stream",
     "text": [
      "[1,  2000] loss: 0.895\n",
      "[1,  4000] loss: 0.925\n",
      "[1,  6000] loss: 0.940\n",
      "[1,  8000] loss: 0.944\n",
      "[1, 10000] loss: 0.922\n",
      "[1, 12000] loss: 0.953\n",
      "[2,  2000] loss: 0.841\n",
      "[2,  4000] loss: 0.878\n",
      "[2,  6000] loss: 0.887\n",
      "[2,  8000] loss: 0.899\n",
      "[2, 10000] loss: 0.906\n",
      "[2, 12000] loss: 0.941\n",
      "[3,  2000] loss: 0.828\n",
      "[3,  4000] loss: 0.842\n",
      "[3,  6000] loss: 0.849\n",
      "[3,  8000] loss: 0.888\n",
      "[3, 10000] loss: 0.872\n",
      "[3, 12000] loss: 0.881\n",
      "[4,  2000] loss: 0.795\n",
      "[4,  4000] loss: 0.811\n",
      "[4,  6000] loss: 0.829\n",
      "[4,  8000] loss: 0.839\n",
      "[4, 10000] loss: 0.838\n",
      "[4, 12000] loss: 0.869\n",
      "[5,  2000] loss: 0.744\n",
      "[5,  4000] loss: 0.785\n",
      "[5,  6000] loss: 0.794\n",
      "[5,  8000] loss: 0.829\n",
      "[5, 10000] loss: 0.849\n",
      "[5, 12000] loss: 0.860\n",
      "[6,  2000] loss: 0.723\n",
      "[6,  4000] loss: 0.770\n",
      "[6,  6000] loss: 0.797\n",
      "[6,  8000] loss: 0.799\n",
      "[6, 10000] loss: 0.801\n",
      "[6, 12000] loss: 0.823\n",
      "[7,  2000] loss: 0.695\n",
      "[7,  4000] loss: 0.749\n",
      "[7,  6000] loss: 0.763\n",
      "[7,  8000] loss: 0.790\n",
      "[7, 10000] loss: 0.785\n",
      "[7, 12000] loss: 0.798\n",
      "[8,  2000] loss: 0.681\n",
      "[8,  4000] loss: 0.717\n",
      "[8,  6000] loss: 0.765\n",
      "[8,  8000] loss: 0.756\n",
      "[8, 10000] loss: 0.770\n",
      "[8, 12000] loss: 0.796\n",
      "[9,  2000] loss: 0.665\n",
      "[9,  4000] loss: 0.701\n",
      "[9,  6000] loss: 0.732\n",
      "[9,  8000] loss: 0.747\n",
      "[9, 10000] loss: 0.744\n",
      "[9, 12000] loss: 0.756\n",
      "[10,  2000] loss: 0.672\n",
      "[10,  4000] loss: 0.695\n",
      "[10,  6000] loss: 0.715\n",
      "[10,  8000] loss: 0.735\n",
      "[10, 10000] loss: 0.734\n",
      "[10, 12000] loss: 0.737\n",
      "[11,  2000] loss: 0.631\n",
      "[11,  4000] loss: 0.687\n",
      "[11,  6000] loss: 0.719\n",
      "[11,  8000] loss: 0.744\n",
      "[11, 10000] loss: 0.705\n",
      "[11, 12000] loss: 0.719\n",
      "[12,  2000] loss: 0.628\n",
      "[12,  4000] loss: 0.673\n",
      "[12,  6000] loss: 0.677\n",
      "[12,  8000] loss: 0.706\n",
      "[12, 10000] loss: 0.714\n",
      "[12, 12000] loss: 0.727\n",
      "finished training\n"
     ]
    }
   ],
   "source": [
    "for epoch in range(12):\n",
    "    running_loss = 0.0\n",
    "    for i, data in enumerate(trainloader, 0):\n",
    "        inputs, labels = data\n",
    "        inputs, labels = Variable(inputs), Variable(labels)\n",
    "        \n",
    "        optimizer.zero_grad()\n",
    "        \n",
    "        outputs = net(inputs)\n",
    "        loss = criterion(outputs, labels)\n",
    "        loss.backward()\n",
    "        \n",
    "        optimizer.step()\n",
    "        \n",
    "        running_loss+=loss.data\n",
    "        if i%2000==1999:\n",
    "            print('[%d, %5d] loss: %.3f'\\\n",
    "                 % (epoch+1, i+1, running_loss/2000))\n",
    "            running_loss = 0.0\n",
    "print('finished training')    "
   ]
  },
  {
   "cell_type": "code",
   "execution_count": 45,
   "metadata": {},
   "outputs": [
    {
     "name": "stdout",
     "output_type": "stream",
     "text": [
      "        cat        ship        ship       plane\n"
     ]
    },
    {
     "data": {
      "image/png": "[encoded data removed]",
      "text/plain": [
       "<PIL.Image.Image image mode=RGB size=400x100 at 0x17705151DD8>"
      ]
     },
     "execution_count": 45,
     "metadata": {},
     "output_type": "execute_result"
    }
   ],
   "source": [
    "dataiter = iter(testloader)\n",
    "images, labels = dataiter.next()\n",
    "print(' '.join('%11s'%classes[labels[j]] for j in range(4)))\n",
    "show(tv.utils.make_grid((images+1)/2)).resize((400,100))"
   ]
  },
  {
   "cell_type": "code",
   "execution_count": 46,
   "metadata": {},
   "outputs": [
    {
     "name": "stdout",
     "output_type": "stream",
     "text": [
      "  cat  ship plane  ship\n"
     ]
    }
   ],
   "source": [
    "outputs = net(Variable(images))\n",
    "_, predicted = t.max(outputs.data, 1)\n",
    "print(' '.join('%5s'% classes[predicted[j]] for j in range(4)))"
   ]
  },
  {
   "cell_type": "code",
   "execution_count": 47,
   "metadata": {},
   "outputs": [
    {
     "name": "stdout",
     "output_type": "stream",
     "text": [
      "tensor(59)\n"
     ]
    }
   ],
   "source": [
    "correct = 0\n",
    "total = 0\n",
    "for data in testloader:\n",
    "    images, labels = data\n",
    "    outputs = net(Variable(images))\n",
    "    _, predicted = t.max(outputs.data, 1)\n",
    "    total += labels.size(0)\n",
    "    correct += (predicted == labels).sum()\n",
    "print(100*correct/total)"
   ]
  },
  {
   "cell_type": "code",
   "execution_count": null,
   "metadata": {},
   "outputs": [],
   "source": []
  }
 ],
 "metadata": {
  "kernelspec": {
   "display_name": "Python 3",
   "language": "python",
   "name": "python3"
  },
  "language_info": {
   "codemirror_mode": {
    "name": "ipython",
    "version": 3
   },
   "file_extension": ".py",
   "mimetype": "text/x-python",
   "name": "python",
   "nbconvert_exporter": "python",
   "pygments_lexer": "ipython3",
   "version": "3.6.8"
  }
 },
 "nbformat": 4,
 "nbformat_minor": 2
}
